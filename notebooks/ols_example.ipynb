{
 "cells": [
  {
   "cell_type": "code",
   "execution_count": 13,
   "id": "sustainable-welsh",
   "metadata": {},
   "outputs": [],
   "source": [
    "from sklearn.datasets import load_boston, load_breast_cancer"
   ]
  },
  {
   "cell_type": "code",
   "execution_count": 14,
   "id": "municipal-hamilton",
   "metadata": {},
   "outputs": [],
   "source": [
    "from sklearn.model_selection import train_test_split"
   ]
  },
  {
   "cell_type": "code",
   "execution_count": 15,
   "id": "binary-settlement",
   "metadata": {},
   "outputs": [],
   "source": [
    "from ravop.ml.linear_model import OrdinaryLeastSquares"
   ]
  },
  {
   "cell_type": "code",
   "execution_count": 16,
   "id": "turkish-ozone",
   "metadata": {},
   "outputs": [],
   "source": [
    "X, y = load_boston(return_X_y=True)"
   ]
  },
  {
   "cell_type": "code",
   "execution_count": 17,
   "id": "written-seminar",
   "metadata": {},
   "outputs": [],
   "source": [
    "import numpy as np\n",
    "y = np.expand_dims(y, axis=1)"
   ]
  },
  {
   "cell_type": "code",
   "execution_count": 18,
   "id": "equipped-purple",
   "metadata": {},
   "outputs": [],
   "source": [
    "X_train, X_test, y_train, y_test = train_test_split(X, y, test_size=0.33, random_state=42)"
   ]
  },
  {
   "cell_type": "code",
   "execution_count": 19,
   "id": "emerging-parts",
   "metadata": {},
   "outputs": [],
   "source": [
    "ols = OrdinaryLeastSquares()"
   ]
  },
  {
   "cell_type": "code",
   "execution_count": 20,
   "id": "thick-heather",
   "metadata": {},
   "outputs": [],
   "source": [
    "ols.fit(X_train, y_train)"
   ]
  },
  {
   "cell_type": "code",
   "execution_count": 21,
   "id": "ranking-glucose",
   "metadata": {},
   "outputs": [
    {
     "data": {
      "text/plain": [
       "2"
      ]
     },
     "execution_count": 21,
     "metadata": {},
     "output_type": "execute_result"
    }
   ],
   "source": [
    "ols.id"
   ]
  },
  {
   "cell_type": "code",
   "execution_count": 22,
   "id": "listed-masters",
   "metadata": {},
   "outputs": [
    {
     "data": {
      "text/plain": [
       "'pending'"
      ]
     },
     "execution_count": 22,
     "metadata": {},
     "output_type": "execute_result"
    }
   ],
   "source": [
    "ols.status"
   ]
  },
  {
   "cell_type": "code",
   "execution_count": 23,
   "id": "central-blend",
   "metadata": {},
   "outputs": [
    {
     "data": {
      "text/plain": [
       "25.0"
      ]
     },
     "execution_count": 23,
     "metadata": {},
     "output_type": "execute_result"
    }
   ],
   "source": [
    "ols.progress"
   ]
  },
  {
   "cell_type": "code",
   "execution_count": 24,
   "id": "advised-render",
   "metadata": {},
   "outputs": [],
   "source": [
    "import ravop.core as R\n",
    "from ravop import globals as g\n",
    "g.graph_id = None"
   ]
  },
  {
   "cell_type": "code",
   "execution_count": 25,
   "id": "genuine-shelf",
   "metadata": {},
   "outputs": [],
   "source": [
    "o = ols.predict(X_test)"
   ]
  },
  {
   "cell_type": "code",
   "execution_count": 31,
   "id": "indian-shift",
   "metadata": {},
   "outputs": [
    {
     "data": {
      "text/plain": [
       "34"
      ]
     },
     "execution_count": 31,
     "metadata": {},
     "output_type": "execute_result"
    }
   ],
   "source": [
    "o.id"
   ]
  },
  {
   "cell_type": "code",
   "execution_count": 33,
   "id": "ceramic-traffic",
   "metadata": {},
   "outputs": [
    {
     "data": {
      "text/plain": [
       "array([[26.70155907],\n",
       "       [35.53617477],\n",
       "       [17.4828186 ],\n",
       "       [24.37855721],\n",
       "       [20.19414139],\n",
       "       [22.2081337 ],\n",
       "       [17.42877197],\n",
       "       [16.70432663],\n",
       "       [21.91388512],\n",
       "       [20.79799843],\n",
       "       [23.24072266],\n",
       "       [17.88650894],\n",
       "       [-8.19603825],\n",
       "       [21.43561172],\n",
       "       [18.50011444],\n",
       "       [27.11891937],\n",
       "       [19.85151291],\n",
       "       [ 5.14020634],\n",
       "       [40.3133316 ],\n",
       "       [18.85980988],\n",
       "       [26.71590614],\n",
       "       [29.01208496],\n",
       "       [12.10410213],\n",
       "       [25.90047646],\n",
       "       [18.32758141],\n",
       "       [14.06774712],\n",
       "       [21.78763199],\n",
       "       [15.0393858 ],\n",
       "       [21.60777664],\n",
       "       [19.33807755],\n",
       "       [19.16753387],\n",
       "       [25.4125576 ],\n",
       "       [27.42802048],\n",
       "       [18.21867943],\n",
       "       [15.87011909],\n",
       "       [17.82584   ],\n",
       "       [31.43021774],\n",
       "       [20.38255501],\n",
       "       [23.4399662 ],\n",
       "       [24.25977898],\n",
       "       [13.75373363],\n",
       "       [30.83590889],\n",
       "       [42.46416092],\n",
       "       [16.80732918],\n",
       "       [26.00435066],\n",
       "       [17.19164276],\n",
       "       [14.39249325],\n",
       "       [25.75367355],\n",
       "       [20.00515747],\n",
       "       [29.24067116],\n",
       "       [20.26843643],\n",
       "       [32.36069489],\n",
       "       [17.27957916],\n",
       "       [27.40016937],\n",
       "       [38.03321457],\n",
       "       [23.08608627],\n",
       "       [20.31244278],\n",
       "       [33.17519379],\n",
       "       [24.3641758 ],\n",
       "       [12.95450211],\n",
       "       [24.50001907],\n",
       "       [32.49939346],\n",
       "       [30.04553032],\n",
       "       [15.90454769],\n",
       "       [23.34093094],\n",
       "       [15.22626877],\n",
       "       [21.51014328],\n",
       "       [25.68185806],\n",
       "       [30.89075279],\n",
       "       [11.1687212 ],\n",
       "       [19.13043022],\n",
       "       [27.15031433],\n",
       "       [11.60497379],\n",
       "       [19.72724915],\n",
       "       [22.85581779],\n",
       "       [ 6.33216858],\n",
       "       [21.71167183],\n",
       "       [40.99626923],\n",
       "       [19.61554718],\n",
       "       [10.76283455],\n",
       "       [20.56547356],\n",
       "       [11.56557941],\n",
       "       [21.51468086],\n",
       "       [ 8.94176865],\n",
       "       [22.20540047],\n",
       "       [30.87880135],\n",
       "       [20.60541725],\n",
       "       [25.86768341],\n",
       "       [27.95298004],\n",
       "       [22.59810829],\n",
       "       [23.63983154],\n",
       "       [ 4.24033546],\n",
       "       [22.52610779],\n",
       "       [15.8308773 ],\n",
       "       [ 9.40822983],\n",
       "       [23.15048409],\n",
       "       [23.73324776],\n",
       "       [-4.05147457],\n",
       "       [14.01461124],\n",
       "       [14.49411678],\n",
       "       [21.04021835],\n",
       "       [23.89353752],\n",
       "       [ 9.57089233],\n",
       "       [20.43175125],\n",
       "       [22.89762115],\n",
       "       [10.29594421],\n",
       "       [18.8428936 ],\n",
       "       [26.18432999],\n",
       "       [21.69013596],\n",
       "       [25.61894989],\n",
       "       [ 7.88168812],\n",
       "       [18.72525978],\n",
       "       [23.2336731 ],\n",
       "       [25.19179344],\n",
       "       [31.42275238],\n",
       "       [15.01117611],\n",
       "       [34.95773697],\n",
       "       [13.30895233],\n",
       "       [20.5633812 ],\n",
       "       [27.38160133],\n",
       "       [15.29052925],\n",
       "       [25.50452995],\n",
       "       [ 3.4135046 ],\n",
       "       [22.8063488 ],\n",
       "       [24.89138603],\n",
       "       [22.80368805],\n",
       "       [26.63606262],\n",
       "       [32.57526779],\n",
       "       [21.00022888],\n",
       "       [37.65748978],\n",
       "       [13.64821529],\n",
       "       [24.53754044],\n",
       "       [18.86331749],\n",
       "       [20.04759216],\n",
       "       [10.67092991],\n",
       "       [19.16404724],\n",
       "       [22.60475159],\n",
       "       [31.77311707],\n",
       "       [30.21310425],\n",
       "       [16.7326107 ],\n",
       "       [18.07885742],\n",
       "       [27.39216995],\n",
       "       [23.04875755],\n",
       "       [15.51481819],\n",
       "       [ 6.93608093],\n",
       "       [25.38980103],\n",
       "       [24.73135567],\n",
       "       [19.40387917],\n",
       "       [14.57660866],\n",
       "       [41.66837692],\n",
       "       [16.77975845],\n",
       "       [19.85619736],\n",
       "       [25.18427849],\n",
       "       [23.05159378],\n",
       "       [20.36560631],\n",
       "       [22.14984512],\n",
       "       [16.36819458],\n",
       "       [24.88879013],\n",
       "       [29.75125313],\n",
       "       [ 7.82374191],\n",
       "       [22.61544228],\n",
       "       [17.1976757 ],\n",
       "       [21.82916832],\n",
       "       [25.24349403],\n",
       "       [24.0623188 ],\n",
       "       [23.08797455],\n",
       "       [41.79573059]])"
      ]
     },
     "execution_count": 33,
     "metadata": {},
     "output_type": "execute_result"
    }
   ],
   "source": [
    "o.output"
   ]
  },
  {
   "cell_type": "code",
   "execution_count": 34,
   "id": "promising-japanese",
   "metadata": {},
   "outputs": [],
   "source": [
    "from ravop.ml.losses import mean_squared_error, mean_absolute_error, root_mean_squared_error"
   ]
  },
  {
   "cell_type": "code",
   "execution_count": 35,
   "id": "dominant-answer",
   "metadata": {},
   "outputs": [],
   "source": [
    "loss = mean_squared_error(y_test, R.Op(id=34).output)"
   ]
  },
  {
   "cell_type": "code",
   "execution_count": 36,
   "id": "express-spine",
   "metadata": {},
   "outputs": [
    {
     "data": {
      "text/plain": [
       "42"
      ]
     },
     "execution_count": 36,
     "metadata": {},
     "output_type": "execute_result"
    }
   ],
   "source": [
    "loss.id"
   ]
  },
  {
   "cell_type": "code",
   "execution_count": 37,
   "id": "plastic-going",
   "metadata": {},
   "outputs": [],
   "source": [
    "loss.output"
   ]
  },
  {
   "cell_type": "code",
   "execution_count": 32,
   "id": "weekly-entity",
   "metadata": {},
   "outputs": [],
   "source": [
    "mae = mean_absolute_error(y_test, R.Op(id=12).output)"
   ]
  },
  {
   "cell_type": "code",
   "execution_count": 33,
   "id": "united-radio",
   "metadata": {},
   "outputs": [
    {
     "data": {
      "text/plain": [
       "23"
      ]
     },
     "execution_count": 33,
     "metadata": {},
     "output_type": "execute_result"
    }
   ],
   "source": [
    "mae.id"
   ]
  },
  {
   "cell_type": "code",
   "execution_count": 34,
   "id": "molecular-catering",
   "metadata": {},
   "outputs": [
    {
     "data": {
      "text/plain": [
       "array(3.22367382)"
      ]
     },
     "execution_count": 34,
     "metadata": {},
     "output_type": "execute_result"
    }
   ],
   "source": [
    "mae.output"
   ]
  },
  {
   "cell_type": "code",
   "execution_count": 36,
   "id": "liberal-weight",
   "metadata": {},
   "outputs": [],
   "source": [
    "rmse = root_mean_squared_error(y_test, R.Op(id=12).output)"
   ]
  },
  {
   "cell_type": "code",
   "execution_count": 37,
   "id": "dependent-audio",
   "metadata": {},
   "outputs": [
    {
     "data": {
      "text/plain": [
       "31"
      ]
     },
     "execution_count": 37,
     "metadata": {},
     "output_type": "execute_result"
    }
   ],
   "source": [
    "rmse.id"
   ]
  },
  {
   "cell_type": "code",
   "execution_count": 38,
   "id": "meaning-rouge",
   "metadata": {},
   "outputs": [
    {
     "data": {
      "text/plain": [
       "array(4.8583827)"
      ]
     },
     "execution_count": 38,
     "metadata": {},
     "output_type": "execute_result"
    }
   ],
   "source": [
    "rmse.output"
   ]
  },
  {
   "cell_type": "code",
   "execution_count": 39,
   "id": "alleged-manitoba",
   "metadata": {},
   "outputs": [],
   "source": [
    "from ravop.ml.metrics import r2_score"
   ]
  },
  {
   "cell_type": "code",
   "execution_count": 40,
   "id": "homeless-bangkok",
   "metadata": {},
   "outputs": [],
   "source": [
    "r2 = r2_score(y_test, R.Op(id=12).output)"
   ]
  },
  {
   "cell_type": "code",
   "execution_count": 41,
   "id": "checked-territory",
   "metadata": {},
   "outputs": [
    {
     "data": {
      "text/plain": [
       "43"
      ]
     },
     "execution_count": 41,
     "metadata": {},
     "output_type": "execute_result"
    }
   ],
   "source": [
    "r2.id"
   ]
  },
  {
   "cell_type": "code",
   "execution_count": 42,
   "id": "composed-barcelona",
   "metadata": {},
   "outputs": [
    {
     "data": {
      "text/plain": [
       "array(0.68810308)"
      ]
     },
     "execution_count": 42,
     "metadata": {},
     "output_type": "execute_result"
    }
   ],
   "source": [
    "r2.output"
   ]
  },
  {
   "cell_type": "code",
   "execution_count": 32,
   "id": "committed-column",
   "metadata": {},
   "outputs": [
    {
     "data": {
      "text/plain": [
       "1"
      ]
     },
     "execution_count": 32,
     "metadata": {},
     "output_type": "execute_result"
    }
   ],
   "source": [
    "ols.id"
   ]
  },
  {
   "cell_type": "code",
   "execution_count": 38,
   "id": "latin-bridge",
   "metadata": {},
   "outputs": [
    {
     "name": "stdout",
     "output_type": "stream",
     "text": [
      "32\n"
     ]
    },
    {
     "data": {
      "text/plain": [
       "array([[-1.10208742e-01],\n",
       "       [ 3.98439728e-02],\n",
       "       [ 4.86434475e-02],\n",
       "       [ 3.16769600e+00],\n",
       "       [-2.33126140e+00],\n",
       "       [ 5.78613949e+00],\n",
       "       [-1.62971690e-02],\n",
       "       [-9.19659555e-01],\n",
       "       [ 1.00491725e-01],\n",
       "       [-5.39036375e-03],\n",
       "       [-4.16389912e-01],\n",
       "       [ 1.67339798e-02],\n",
       "       [-4.67821002e-01]])"
      ]
     },
     "execution_count": 38,
     "metadata": {},
     "output_type": "execute_result"
    }
   ],
   "source": [
    "ols.coefficients"
   ]
  },
  {
   "cell_type": "code",
   "execution_count": 39,
   "id": "pediatric-tucson",
   "metadata": {},
   "outputs": [
    {
     "name": "stdout",
     "output_type": "stream",
     "text": [
      "<class 'ravop.core.Tensor'> <class 'ravop.core.Op'>\n"
     ]
    }
   ],
   "source": [
    "score = ols.score(X_test, y_test)"
   ]
  },
  {
   "cell_type": "code",
   "execution_count": 40,
   "id": "integral-lender",
   "metadata": {},
   "outputs": [
    {
     "data": {
      "text/plain": [
       "55"
      ]
     },
     "execution_count": 40,
     "metadata": {},
     "output_type": "execute_result"
    }
   ],
   "source": [
    "score.id"
   ]
  },
  {
   "cell_type": "code",
   "execution_count": 42,
   "id": "certified-voluntary",
   "metadata": {},
   "outputs": [
    {
     "data": {
      "text/plain": [
       "array(0.68810308)"
      ]
     },
     "execution_count": 42,
     "metadata": {},
     "output_type": "execute_result"
    }
   ],
   "source": [
    "score.output"
   ]
  },
  {
   "cell_type": "code",
   "execution_count": null,
   "id": "intelligent-canvas",
   "metadata": {},
   "outputs": [],
   "source": []
  }
 ],
 "metadata": {
  "kernelspec": {
   "display_name": "Python 3",
   "language": "python",
   "name": "python3"
  },
  "language_info": {
   "codemirror_mode": {
    "name": "ipython",
    "version": 3
   },
   "file_extension": ".py",
   "mimetype": "text/x-python",
   "name": "python",
   "nbconvert_exporter": "python",
   "pygments_lexer": "ipython3",
   "version": "3.7.7"
  }
 },
 "nbformat": 4,
 "nbformat_minor": 5
}
